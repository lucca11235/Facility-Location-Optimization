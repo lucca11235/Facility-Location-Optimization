{
 "cells": [
  {
   "cell_type": "markdown",
   "metadata": {},
   "source": [
    "# Imports and Data"
   ]
  },
  {
   "cell_type": "code",
   "execution_count": 1,
   "metadata": {},
   "outputs": [],
   "source": [
    "import numpy as np\n",
    "from tqdm import tqdm\n",
    "import matplotlib.pyplot as plt\n",
    "import pandas as pd\n",
    "from IPython.display import clear_output\n",
    "import seaborn as sns\n"
   ]
  },
  {
   "cell_type": "code",
   "execution_count": 2,
   "metadata": {},
   "outputs": [],
   "source": [
    "test_case = {'capacities':{'A': 100, 'B': 150, 'C': 120},\n",
    "             'opening_costs': {'A': 10, 'B': 12, 'C': 8},\n",
    "             'demands': {1: 60, 2: 50, 3: 70, 4: 40},\n",
    "             'transportation_costs':{\n",
    "                'A': {1: 2, 2: 3, 3: 1, 4: 2},\n",
    "                'B': {1: 3, 2: 2, 3: 2, 4: 1},\n",
    "                'C': {1: 1, 2: 1, 3: 2, 4: 3}\n",
    "             }}\n",
    "\n",
    "test_case_2 = {'capacities':{'A': 200, 'B': 180, 'C': 160, 'D': 150, 'E': 140},\n",
    "              'opening_costs':{'A': 2000, 'B': 2000, 'C': 1500, 'D': 1100, 'E': 2500},\n",
    "              'demands':{1: 90, 2: 80, 3: 70, 4: 60, 5: 85, 6: 75},\n",
    "              'transportation_costs':{\n",
    "                  'A': {1: 4, 2: 6, 3: 5, 4: 3, 5: 2, 6: 3},\n",
    "                  'B': {1: 5, 2: 3, 3: 4, 4: 2, 5: 6, 6: 5},\n",
    "                  'C': {1: 3, 2: 4, 3: 2, 4: 5, 5: 3, 6: 4},\n",
    "                  'D': {1: 6, 2: 5, 3: 3, 4: 4, 5: 5, 6: 2},\n",
    "                  'E': {1: 2, 2: 1, 3: 6, 4: 1, 5: 4, 6: 6}\n",
    "              }\n",
    "              }\n",
    "\n",
    "\n",
    "\n",
    "test_case_3 = {'capacities':{\n",
    "                  'A': 200, 'B': 300, 'C': 150, 'D': 180, 'E': 220,\n",
    "                  'F': 160, 'G': 140, 'H': 210, 'I': 130, 'J': 170\n",
    "              },\n",
    "              'opening_costs':{\n",
    "                  'A': 2000, 'B': 2400, 'C': 7542, 'D': 7542, 'E': 4752,\n",
    "                  'F': 1235, 'G': 3626, 'H': 3246, 'I': 3462, 'J': 8475\n",
    "              },\n",
    "\n",
    "              'demands':{\n",
    "                  1: 110, 2: 95, 3: 120, 4: 85, 5: 100,\n",
    "                  6: 90, 7: 80, 8: 115, 9: 105, 10: 75\n",
    "              },\n",
    "              'transportation_costs':{\n",
    "                  'A': {1: 4, 2: 6, 3: 3, 4: 5, 5: 4, 6: 6, 7: 7, 8: 3, 9: 4, 10: 5},\n",
    "                  'B': {1: 5, 2: 4, 3: 2, 4: 6, 5: 3, 6: 5, 7: 4, 8: 2, 9: 5, 10: 4},\n",
    "                  'C': {1: 3, 2: 3, 3: 4, 4: 5, 5: 2, 6: 4, 7: 6, 8: 1, 9: 3, 10: 2},\n",
    "                  'D': {1: 2, 2: 5, 3: 6, 4: 3, 5: 4, 6: 2, 7: 5, 8: 4, 9: 2, 10: 6},\n",
    "                  'E': {1: 6, 2: 2, 3: 5, 4: 4, 5: 6, 6: 3, 7: 3, 8: 6, 9: 1, 10: 3},\n",
    "                  'F': {1: 5, 2: 7, 3: 3, 4: 2, 5: 5, 6: 7, 7: 2, 8: 5, 9: 6, 10: 1},\n",
    "                  'G': {1: 3, 2: 1, 3: 7, 4: 6, 5: 3, 6: 5, 7: 4, 8: 3, 9: 7, 10: 2},\n",
    "                  'H': {1: 4, 2: 3, 3: 1, 4: 7, 5: 2, 6: 6, 7: 1, 8: 4, 9: 5, 10: 7},\n",
    "                  'I': {1: 7, 2: 5, 3: 2, 4: 1, 5: 7, 6: 1, 7: 7, 8: 7, 9: 3, 10: 4},\n",
    "                  'J': {1: 6, 2: 4, 3: 6, 4: 2, 5: 1, 6: 3, 7: 6, 8: 2, 9: 6, 10: 5}\n",
    "              }\n",
    "              }\n",
    "\n"
   ]
  },
  {
   "cell_type": "code",
   "execution_count": 54,
   "metadata": {},
   "outputs": [
    {
     "name": "stdout",
     "output_type": "stream",
     "text": [
      "9463\n",
      "1787\n"
     ]
    }
   ],
   "source": [
    "import random\n",
    "import string\n",
    "\n",
    "def generate_test_case(N, M):\n",
    "    # Generate random capacities and opening costs for N distribution centers\n",
    "    POWER = 5\n",
    "    capacities = {f'F{i+1}': random.randint(int((POWER+M/N)*30), int((POWER+M/N)*100)) for i in range(N)}\n",
    "    opening_costs = {f'F{i+1}': random.randint(1000, 5000) for i in range(N)}  # Higher opening costs\n",
    "\n",
    "    # Generate random demands for M clients\n",
    "    demands = {i+1: random.randint(30, 100) for i in range(M)}\n",
    "\n",
    "    # Generate random transportation costs for each facility-client pair\n",
    "    transportation_costs = {f'F{i+1}': {j+1: random.randint(1, 50) for j in range(M)} for i in range(N)}\n",
    "\n",
    "    test_case = {\n",
    "        'capacities': capacities,\n",
    "        'opening_costs': opening_costs,\n",
    "        'demands': demands,\n",
    "        'transportation_costs': transportation_costs\n",
    "    }\n",
    "\n",
    "    return test_case\n",
    "\n",
    "# Example usage with N distribution centers and M clients\n",
    "N = 25  # Number of distribution centers\n",
    "M = 25 # Number of clients\n",
    "test_case_giant = generate_test_case(N, M)\n",
    "\n",
    "print(sum(test_case_giant['capacities'].values()))\n",
    "print(sum(test_case_giant['demands'].values()))"
   ]
  },
  {
   "cell_type": "code",
   "execution_count": null,
   "metadata": {},
   "outputs": [],
   "source": []
  },
  {
   "cell_type": "markdown",
   "metadata": {},
   "source": [
    "# Functions"
   ]
  },
  {
   "cell_type": "code",
   "execution_count": 55,
   "metadata": {},
   "outputs": [],
   "source": [
    "def adjust_fractions_to_integers(fractions, N):\n",
    "    fractions[np.isnan(fractions)] = 1\n",
    "    \n",
    "    scaled_values = [f * N for f in fractions]  # Scale the values\n",
    "    rounded_values = [round(v) for v in scaled_values]  # Round the values\n",
    "    errors = [sv - rv for sv, rv in zip(scaled_values, rounded_values)]  # Calculate rounding errors\n",
    "    \n",
    "\n",
    "    sum_rounded = sum(rounded_values)  # Sum of rounded values\n",
    "    adjustment = N - sum_rounded  # Required adjustment to reach N\n",
    "\n",
    "    # Ensure no initial values are negative\n",
    "    for i in range(len(rounded_values)):\n",
    "        if rounded_values[i] < 0:\n",
    "            rounded_values[i] = 0\n",
    "\n",
    "    # Sort by proximity to the next integer, preferring adjustments that tip over to the next integer\n",
    "    error_indices_sorted = sorted(range(len(errors)), key=lambda i: -abs(errors[i] - 0.5))\n",
    "\n",
    "    # Adjust the values based on the errors, avoiding negatives\n",
    "    for i in error_indices_sorted:\n",
    "        if adjustment == 0:\n",
    "            break  # No more adjustments needed\n",
    "        if adjustment > 0 and rounded_values[i] < N:  # Only increase if below N\n",
    "            rounded_values[i] += 1\n",
    "            adjustment -= 1\n",
    "        elif adjustment < 0 and rounded_values[i] > 0:  # Only decrease if above 0\n",
    "            rounded_values[i] -= 1\n",
    "            adjustment += 1\n",
    "\n",
    "    return rounded_values\n",
    "\n",
    "def adjust_matrix_columns_to_integers(matrix, whole_numbers):\n",
    "    # Ensure input is a NumPy array for easier column manipulation\n",
    "    matrix = np.array(matrix)\n",
    "    adjusted_matrix = np.zeros_like(matrix)\n",
    "\n",
    "    # Iterate through each column and the corresponding whole number\n",
    "    for col_index, N in enumerate(whole_numbers):\n",
    "        column_fractions = matrix[:, col_index]  # Extract the column\n",
    "        adjusted_column = adjust_fractions_to_integers(column_fractions, N)\n",
    "        adjusted_matrix[:, col_index] = adjusted_column  # Replace the column in the matrix\n",
    "\n",
    "    return adjusted_matrix\n"
   ]
  },
  {
   "cell_type": "markdown",
   "metadata": {},
   "source": [
    "# X representation"
   ]
  },
  {
   "cell_type": "code",
   "execution_count": 56,
   "metadata": {},
   "outputs": [],
   "source": [
    "from dataclasses import dataclass\n",
    "from typing import List\n",
    "\n",
    "@dataclass\n",
    "class solution:\n",
    "    y: List[bool]\n",
    "    x: List[List[float]]\n",
    "    \n",
    "    def __repr__(self) -> str:\n",
    "        s = f'Facilities: {self.y}\\nTransportation: {np.array(self.x)}'\n",
    "        return s"
   ]
  },
  {
   "cell_type": "code",
   "execution_count": 220,
   "metadata": {},
   "outputs": [],
   "source": [
    "class X:\n",
    "    def __init__(self,\n",
    "                 facility_information,\n",
    "                 alpha = 50,\n",
    "                 cooling_rate = 0.995):\n",
    "        \n",
    "        self.facility_information = facility_information\n",
    "        \n",
    "        self._preprocess_data()\n",
    "        \n",
    "        self.facilites_prob = [0.1 for _ in range(self.N)]\n",
    "        self.transportation_prob = [[(0,50) for _  in range(self.M)] for _ in range(self.N)]\n",
    "        \n",
    "        self.cooling_rate = cooling_rate \n",
    "        self.alpha = alpha\n",
    "        \n",
    "    def _preprocess_data(self):\n",
    "        \"\"\"Preprocess facility information to extract demands, capacities, opening costs, and transportation costs.\"\"\"\n",
    "        self.demands = np.array(list(self.facility_information['demands'].values()))\n",
    "        self.capacities = np.array(list(self.facility_information['capacities'].values()))\n",
    "        self.opening_costs = np.array(list(self.facility_information['opening_costs'].values()))\n",
    "        self.transportation_costs = np.array([list(inner_dict.values()) for inner_dict in self.facility_information['transportation_costs'].values()])\n",
    "\n",
    "        self.facility_names = list(self.facility_information['capacities'].keys())\n",
    "        self.demand_points_names = list(self.facility_information['demands'].keys())\n",
    "        \n",
    "        self.N,self.M = self.transportation_costs.shape\n",
    "        \n",
    "    def _distribution_matrix(self, solution):\n",
    "        \"\"\"\n",
    "        Generate the distribution matrix from the solution, ensuring allocations match demand.\n",
    "\n",
    "        Args:\n",
    "        - solution (tuple): The current solution consisting of open facilities and allocation matrix.\n",
    "\n",
    "        Returns:\n",
    "        - tuple: Open facilities and the adjusted distribution matrix.\n",
    "        \"\"\"\n",
    "        open_facilities, matrix = np.array(solution.y),np.array(solution.x)  # Unpack the current solution\n",
    "\n",
    "        # Convert allocation values using softmax to ensure they sum to 1 across demand points\n",
    "        exp_vals = np.exp(matrix)\n",
    "        softmax_vals = exp_vals / np.sum(exp_vals, axis=0)\n",
    "\n",
    "        # Adjust allocation matrix columns to match demand exactly\n",
    "        distribution_matrix = adjust_matrix_columns_to_integers(softmax_vals, self.demands)\n",
    "\n",
    "        return open_facilities, distribution_matrix\n",
    "    \n",
    "    def cost(self, solution):\n",
    "        \"\"\"\n",
    "        Calculate the cost associated with a given solution, including opening costs, transportation costs, and capacity penalties.\n",
    "\n",
    "        Args:\n",
    "        - solution (tuple): A tuple containing the binary array of open facilities and the allocation matrix.\n",
    "\n",
    "        Returns:\n",
    "        - tuple: Total cost, distribution cost, capacity penalty, and opening cost.\n",
    "        \"\"\"\n",
    "        open_facilities, matrix = np.array(solution.y),np.array(solution.x)  # Unpack the solution\n",
    "        indicies = np.where(open_facilities == True)  # Identify indices of open facilities\n",
    "\n",
    "        # Calculate the opening cost for the open facilities\n",
    "        opening_cost = open_facilities.dot(self.opening_costs)\n",
    "\n",
    "        # Convert allocation values using softmax to ensure they sum to 1 across demand points\n",
    "        # exp_vals = np.exp(matrix)\n",
    "        # softmax_vals = exp_vals / np.sum(exp_vals, axis=0)\n",
    "        \n",
    "        # Convert allocation values using softmax to ensure they sum to 1 across demand points\n",
    "        exp_vals = np.exp(np.clip(matrix,-100,100))\n",
    "        softmax_vals = exp_vals / np.sum(exp_vals, axis=0)\n",
    "\n",
    "        # Adjust allocation matrix columns to match demand exactly\n",
    "        distribution_matrix = adjust_matrix_columns_to_integers(softmax_vals, self.demands)\n",
    "    \n",
    "        # Calculate the total distribution cost based on transportation costs and allocations\n",
    "        cost = np.sum(distribution_matrix * self.transportation_costs[indicies])\n",
    "\n",
    "        # Sum up all costs and penalties to get the total cost\n",
    "        total_cost = opening_cost + cost \n",
    "\n",
    "        return total_cost\n",
    "    \n",
    "    def check_valid_solution(self,solution,print_info = False):\n",
    "        \"\"\"Check if the current solution satisfies all capacity constraints.\"\"\"\n",
    "        open_facilities, matrix = self._distribution_matrix(solution)  # Unpack the current solution\n",
    "        \n",
    "        indicies = np.where(open_facilities == True)  # Identify indices of open facilities\n",
    "\n",
    "        total_sent_units = np.sum(matrix, axis=1)  # Calculate total units sent from each facility\n",
    "        \n",
    "        # Check if all facilities are within their capacity limits\n",
    "        if print_info:\n",
    "            print(matrix,total_sent_units,self.capacities[indicies])\n",
    "        return all(x <= y for x, y in zip(total_sent_units, self.capacities[indicies]))\n",
    "        \n",
    "    def wins(self,s1,s2):\n",
    "        if not self.check_valid_solution(s1) and not self.check_valid_solution(s2):\n",
    "            return None\n",
    "    \n",
    "        if self.check_valid_solution(s1) and not self.check_valid_solution(s2):\n",
    "            return s1\n",
    "        \n",
    "        if not self.check_valid_solution(s1) and self.check_valid_solution(s2):\n",
    "            return s2\n",
    "        \n",
    "        if self.cost(s1) < self.cost(s2): return s1\n",
    "        else: return s2\n",
    "        \n",
    "    def update_weights(self,s1,s2):\n",
    "\n",
    "        winner = self.wins(s1,s2)\n",
    "        if winner is None:\n",
    "            for i in range(self.N):\n",
    "                self.facilites_prob[i] = np.clip(self.facilites_prob[i] + 0.01,0,1)\n",
    "            return\n",
    "        \n",
    "        # For every positive in winner.y, increase probability\n",
    "        y = winner.y\n",
    "        for i in range(self.N):\n",
    "            if y[i] == True:\n",
    "                self.facilites_prob[i] = np.clip(self.facilites_prob[i] + 1/self.alpha,0,1)\n",
    "            elif y[i] == False:\n",
    "                self.facilites_prob[i] = np.clip(self.facilites_prob[i] - 1/self.alpha,0,1)\n",
    "        \n",
    "        # For every number in winner.x, update the mean of the according position and decrease the \n",
    "        # sigma value    \n",
    "        x = np.array(winner.x)\n",
    "        indicies = np.where(np.array(y) == True)[0]  # Identify indices of open facilities\n",
    "        for i,index in enumerate(indicies):\n",
    "            for j in range(x.shape[1]):\n",
    "                num = x[i][j]\n",
    "    \n",
    "                mu_sig = self.transportation_prob[index][j]\n",
    "                \n",
    "                new_mu_sig = (mu_sig[0] + (1/self.alpha)*(num-mu_sig[0]),mu_sig[1]*self.cooling_rate)\n",
    "\n",
    "                self.transportation_prob[index][j] = new_mu_sig\n",
    "        \n",
    "        \n",
    "    def generate_solution(self):\n",
    "        facilities = [random.random() < self.facilites_prob[i] for i in range(self.N)]\n",
    "        indicies = np.where(np.array(facilities) == True)[0]\n",
    "        transportation = np.array([[random.gauss(self.transportation_prob[i][j][0],self.transportation_prob[i][j][1]) for j in range(self.M)] for i in range(self.N)])\n",
    "    \n",
    "        return solution(facilities,transportation[indicies])\n",
    "    \n",
    "    def run(self,iterations = 1000):\n",
    "        costs = []\n",
    "        self.best_cost = float('inf')\n",
    "        self.best_sol = None\n",
    "        for _ in tqdm(range(iterations)):\n",
    "                \n",
    "            s1,s2 = self.generate_solution(),self.generate_solution()\n",
    "            costs.append(self.cost(s1))\n",
    "            self.update_weights(s1,s2)\n",
    "            \n",
    "            if (c1:=self.cost(s1)) < self.best_cost and self.check_valid_solution(s1):\n",
    "                self.best_sol = s1\n",
    "                self.best_cost = c1\n",
    "                \n",
    "            if (c2:=self.cost(s2)) < self.best_cost and self.check_valid_solution(s2):\n",
    "                self.best_sol = s2\n",
    "                self.best_cost = c2\n",
    "                        \n",
    "        return costs"
   ]
  },
  {
   "cell_type": "code",
   "execution_count": 225,
   "metadata": {},
   "outputs": [
    {
     "name": "stderr",
     "output_type": "stream",
     "text": [
      "100%|██████████| 3000/3000 [00:10<00:00, 297.00it/s]\n"
     ]
    }
   ],
   "source": [
    "test = X(test_case_giant,alpha = 50,cooling_rate=0.999)\n",
    "costs = test.run(iterations = 3000)"
   ]
  },
  {
   "cell_type": "code",
   "execution_count": 226,
   "metadata": {},
   "outputs": [
    {
     "data": {
      "image/png": "[encoded data removed]",
      "text/plain": [
       "<Figure size 640x480 with 1 Axes>"
      ]
     },
     "metadata": {},
     "output_type": "display_data"
    }
   ],
   "source": [
    "plt.plot(costs)\n",
    "plt.show()"
   ]
  },
  {
   "cell_type": "code",
   "execution_count": 217,
   "metadata": {},
   "outputs": [
    {
     "data": {
      "text/plain": [
       "True"
      ]
     },
     "execution_count": 217,
     "metadata": {},
     "output_type": "execute_result"
    }
   ],
   "source": [
    "best_sol = test.best_sol\n",
    "test.check_valid_solution(test.best_sol)"
   ]
  },
  {
   "cell_type": "code",
   "execution_count": 218,
   "metadata": {},
   "outputs": [
    {
     "data": {
      "text/plain": [
       "[0.0,\n",
       " 1.0,\n",
       " 0.0,\n",
       " 0.0,\n",
       " 1.0,\n",
       " 1.0,\n",
       " 0.0,\n",
       " 0.0,\n",
       " 1.0,\n",
       " 1.0,\n",
       " 1.0,\n",
       " 0.0,\n",
       " 0.0,\n",
       " 1.0,\n",
       " 0.0,\n",
       " 1.0,\n",
       " 1.0,\n",
       " 1.0,\n",
       " 0.0,\n",
       " 0.0,\n",
       " 1.0,\n",
       " 0.0,\n",
       " 0.0,\n",
       " 1.0,\n",
       " 1.0]"
      ]
     },
     "execution_count": 218,
     "metadata": {},
     "output_type": "execute_result"
    }
   ],
   "source": [
    "test.facilites_prob"
   ]
  },
  {
   "cell_type": "code",
   "execution_count": 219,
   "metadata": {},
   "outputs": [
    {
     "name": "stdout",
     "output_type": "stream",
     "text": [
      "44414.0\n"
     ]
    }
   ],
   "source": [
    "print(test.best_cost)"
   ]
  },
  {
   "cell_type": "code",
   "execution_count": 209,
   "metadata": {},
   "outputs": [],
   "source": [
    "def solution_heatmap(solution):\n",
    "  plt.figure(figsize = (10,5))\n",
    "  # Create a heatmap of the solution matrix\n",
    "  sns.heatmap(solution)\n",
    "\n",
    "  # Set the title and labels for the heatmap\n",
    "  plt.title(\"Solution Matrix\")\n",
    "  plt.xlabel(\"Demand Points\")\n",
    "  plt.ylabel(\"Facilities\")\n",
    "\n",
    "  # Display the heatmap\n",
    "  plt.show()"
   ]
  },
  {
   "cell_type": "code",
   "execution_count": 213,
   "metadata": {},
   "outputs": [],
   "source": [
    "s = np.array(test.transportation_prob)\n",
    "result_array = s[:, :, 1]\n"
   ]
  },
  {
   "cell_type": "code",
   "execution_count": 214,
   "metadata": {},
   "outputs": [
    {
     "data": {
      "image/png": "[encoded data removed]",
      "text/plain": [
       "<Figure size 1000x500 with 2 Axes>"
      ]
     },
     "metadata": {},
     "output_type": "display_data"
    }
   ],
   "source": [
    "solution_heatmap(result_array)"
   ]
  },
  {
   "cell_type": "code",
   "execution_count": 212,
   "metadata": {},
   "outputs": [
    {
     "data": {
      "image/png": "[encoded data removed]",
      "text/plain": [
       "<Figure size 1000x500 with 2 Axes>"
      ]
     },
     "metadata": {},
     "output_type": "display_data"
    }
   ],
   "source": [
    "solution_heatmap(test._distribution_matrix(test.best_sol)[1])"
   ]
  },
  {
   "cell_type": "code",
   "execution_count": null,
   "metadata": {},
   "outputs": [],
   "source": []
  },
  {
   "cell_type": "markdown",
   "metadata": {},
   "source": []
  },
  {
   "cell_type": "markdown",
   "metadata": {},
   "source": []
  }
 ],
 "metadata": {
  "kernelspec": {
   "display_name": "Python 3",
   "language": "python",
   "name": "python3"
  },
  "language_info": {
   "codemirror_mode": {
    "name": "ipython",
    "version": 3
   },
   "file_extension": ".py",
   "mimetype": "text/x-python",
   "name": "python",
   "nbconvert_exporter": "python",
   "pygments_lexer": "ipython3",
   "version": "3.12.1"
  }
 },
 "nbformat": 4,
 "nbformat_minor": 2
}
